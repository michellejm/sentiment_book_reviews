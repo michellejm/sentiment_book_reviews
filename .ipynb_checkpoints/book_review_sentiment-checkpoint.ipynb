{
 "cells": [
  {
   "cell_type": "markdown",
   "id": "110851c3-0a2e-4f15-b546-cf3dad5e4ffd",
   "metadata": {},
   "source": [
    "# Sentiment Analysis with finetuned distilBERT \n",
    "Following the [HuggingFace tutorial](https://huggingface.co/docs/transformers/en/tasks/sequence_classification) on text classification using [Goodreads data](https://www.kaggle.com/competitions/goodreads-books-reviews-290312)"
   ]
  },
  {
   "cell_type": "code",
   "id": "162353ee-09d7-4080-9480-47d4c7591585",
   "metadata": {
    "jupyter": {
     "is_executing": true
    }
   },
   "source": [
    "from huggingface_hub import notebook_login\n",
    "\n",
    "notebook_login()"
   ],
   "outputs": [],
   "execution_count": null
  },
  {
   "cell_type": "code",
   "id": "db933476-3730-4f89-8a81-0ecb63905a43",
   "metadata": {
    "jupyter": {
     "is_executing": true
    }
   },
   "source": [
    "import pandas as pd\n",
    "import numpy as np\n",
    "\n",
    "from transformers import AutoTokenizer\n",
    "from transformers import DataCollatorWithPadding\n",
    "from transformers import AutoModelForSequenceClassification\n",
    "from transformers import TrainingArguments\n",
    "from transformers import Trainer\n",
    "\n",
    "from datasets import load_dataset\n",
    "\n",
    "import evaluate\n"
   ],
   "outputs": [],
   "execution_count": null
  },
  {
   "cell_type": "code",
   "execution_count": null,
   "id": "e5f88d8c-6977-4a7d-a9d6-97e820ad24f9",
   "metadata": {},
   "outputs": [],
   "source": [
    "df = pd.read_csv(\"data/goodreads_train.csv\")\n",
    "df.head()"
   ]
  },
  {
   "cell_type": "code",
   "execution_count": null,
   "id": "680b02cd-6d95-4b0d-b840-f7efc1c73308",
   "metadata": {},
   "outputs": [],
   "source": [
    "df.describe()"
   ]
  },
  {
   "cell_type": "code",
   "execution_count": null,
   "id": "e8523dd0-7f3b-4f5a-8e93-dc3fbf8e1c27",
   "metadata": {},
   "outputs": [],
   "source": [
    "# transform the rating column to a label column\n",
    "\n",
    "def rating_to_sent(rating):\n",
    "    # rating 3 is assigned positive because sampling a few reviews, \n",
    "    # I personally would call most of them more positive than negative. This could be changed\n",
    "    if rating > 3:\n",
    "        return 1\n",
    "    elif rating == 3:\n",
    "        return 1\n",
    "    elif rating < 3:\n",
    "        return 0\n",
    "\n",
    "df['label'] = df['rating'].apply(rating_to_sent)\n",
    "df.head()"
   ]
  },
  {
   "cell_type": "code",
   "execution_count": null,
   "id": "4a371a40-e039-437d-a8aa-e9fa35c890dd",
   "metadata": {},
   "outputs": [],
   "source": [
    "# rename column\n",
    "df.rename(columns={'review_text':'text'}, inplace=True)\n",
    "df.head()"
   ]
  },
  {
   "cell_type": "code",
   "execution_count": null,
   "id": "a569736a-805b-425d-be40-82c91389a9ac",
   "metadata": {},
   "outputs": [],
   "source": [
    "hf_df = df[['text', 'label']]\n",
    "hf_df.head()"
   ]
  },
  {
   "cell_type": "code",
   "execution_count": null,
   "id": "2f277320-6501-4abc-9485-ce77a64c096f",
   "metadata": {},
   "outputs": [],
   "source": [
    "hf_df.to_csv(\"data/goodreads_for_hf.csv\")"
   ]
  },
  {
   "cell_type": "code",
   "execution_count": null,
   "id": "71468b6a-ba45-4734-b353-779826d6f360",
   "metadata": {},
   "outputs": [],
   "source": [
    "\n",
    "gr_dataset = load_dataset(\"csv\", data_files=\"data/goodreads_for_hf.csv\")"
   ]
  },
  {
   "cell_type": "markdown",
   "id": "d5e2b3b0-08f2-44e1-82af-c29707fba05e",
   "metadata": {},
   "source": [
    "## Preprocessing"
   ]
  },
  {
   "cell_type": "code",
   "execution_count": null,
   "id": "79b1f60a-38fb-4ffd-9065-1cc30015e45e",
   "metadata": {},
   "outputs": [],
   "source": [
    "tokenizer = AutoTokenizer.from_pretrained(\"distilbert/distilbert-base-uncased\")\n"
   ]
  },
  {
   "cell_type": "code",
   "execution_count": null,
   "id": "30dd3b43-fa5b-40af-80f5-c4b79c2dcd88",
   "metadata": {},
   "outputs": [],
   "source": [
    "#truncate input to the maximum length of BERT's input length\n",
    "\n",
    "def preprocess_function(examples):\n",
    "    return tokenizer(examples['text'], truncation = True)"
   ]
  },
  {
   "cell_type": "code",
   "execution_count": null,
   "id": "afeb99fa-5024-4465-b445-adf79f4cd3ab",
   "metadata": {},
   "outputs": [],
   "source": [
    "tokenized_gr = gr_dataset.map(preprocess_function, batched = True)"
   ]
  },
  {
   "cell_type": "code",
   "execution_count": null,
   "id": "567436ed-a12d-4f8d-8f09-717f3bf8e1cd",
   "metadata": {},
   "outputs": [],
   "source": [
    "type(tokenized_gr)"
   ]
  },
  {
   "cell_type": "code",
   "execution_count": null,
   "id": "4b0f58b7-c509-4534-aed9-e6c717710083",
   "metadata": {},
   "outputs": [],
   "source": [
    "# now pad the inputs so that each batch is the same length\n",
    "# do this by batches because otherwise takes too long and uses unnecessary resources \n",
    "# tbh this function itself is a total black box\n",
    "\n",
    "data_collator = DataCollatorWithPadding(tokenizer=tokenizer)"
   ]
  },
  {
   "cell_type": "code",
   "execution_count": null,
   "id": "c0cd7ad7-6685-4803-8a4a-0781176aa177",
   "metadata": {},
   "outputs": [],
   "source": [
    "type(data_collator)"
   ]
  },
  {
   "cell_type": "code",
   "execution_count": null,
   "id": "fb19fd79-a91d-416c-b915-bfcfa54839a6",
   "metadata": {},
   "outputs": [],
   "source": [
    "# measure accuracy while training \n",
    "\n",
    "accuracy = evaluate.load(\"accuracy\")"
   ]
  },
  {
   "cell_type": "code",
   "execution_count": null,
   "id": "33eb49ce-efb3-4c01-8ed3-874a49c3223f",
   "metadata": {},
   "outputs": [],
   "source": [
    "#pass predictions and labels to `compute` to calculate the accuracy\n",
    "\n",
    "def compute_metrics(eval_pred):\n",
    "    predictions, labels = eval_pred\n",
    "    predictions = np.argmax(predictions, axis = 1)\n",
    "    return accuracy.compute(predictions = predictions, references = labels)"
   ]
  },
  {
   "cell_type": "code",
   "execution_count": null,
   "id": "d579e919-e451-4105-9016-9799d8a54453",
   "metadata": {},
   "outputs": [],
   "source": [
    "#map ids to labels \n",
    "id2label = {0: \"NEGATIVE\", 1: \"POSITIVE\"}\n",
    "label2id = {\"NEGATIVE\": 0, \"POSITIVE\": 1}\n"
   ]
  },
  {
   "cell_type": "code",
   "execution_count": null,
   "id": "f2e56b24-091f-48f6-9e5c-849daad5a797",
   "metadata": {},
   "outputs": [],
   "source": [
    "# establish the model\n",
    "model = AutoModelForSequenceClassification.from_pretrained(\n",
    "    \"distilbert/distilbert-base-uncased\", num_labels=2, id2label=id2label, label2id=label2id)"
   ]
  },
  {
   "cell_type": "code",
   "execution_count": null,
   "id": "58379469-5362-4b0e-a905-6d65aa0992fe",
   "metadata": {},
   "outputs": [],
   "source": [
    "# define training arguments \n",
    "\n",
    "training_args = TrainingArguments(\n",
    "    output_dir = \"models\",\n",
    "    learning_rate = 2e-5,\n",
    "    per_device_train_batch_size = 16,\n",
    "    per_device_eval_batch_size=16,\n",
    "    num_train_epochs=2,\n",
    "    weight_decay=0.01,\n",
    "    eval_strategy=\"epoch\",\n",
    "    save_strategy=\"epoch\",\n",
    "    load_best_model_at_end=True,\n",
    "    push_to_hub=True,\n",
    ")\n",
    "\n",
    "trainer = Trainer(\n",
    "    model=model,\n",
    "    #tokenizer=tokenizer,\n",
    "    args=training_args,\n",
    "    train_dataset=tokenized_gr['train'],\n",
    "    eval_dataset=tokenized_gr['test'],\n",
    "    processing_class=data_collator,\n",
    "    compute_metrics=compute_metrics,\n",
    ")\n",
    "\n",
    "trainer.train()\n",
    "    \n",
    "    "
   ]
  },
  {
   "cell_type": "code",
   "execution_count": null,
   "id": "0a983b46-b07b-4293-b276-ed11f96a9a90",
   "metadata": {},
   "outputs": [],
   "source": []
  }
 ],
 "metadata": {
  "kernelspec": {
   "display_name": "Python [conda env:base] *",
   "language": "python",
   "name": "conda-base-py"
  },
  "language_info": {
   "codemirror_mode": {
    "name": "ipython",
    "version": 3
   },
   "file_extension": ".py",
   "mimetype": "text/x-python",
   "name": "python",
   "nbconvert_exporter": "python",
   "pygments_lexer": "ipython3",
   "version": "3.12.7"
  }
 },
 "nbformat": 4,
 "nbformat_minor": 5
}
